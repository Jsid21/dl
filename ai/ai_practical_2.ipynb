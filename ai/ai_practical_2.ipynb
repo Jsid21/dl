{
  "nbformat": 4,
  "nbformat_minor": 0,
  "metadata": {
    "colab": {
      "provenance": []
    },
    "kernelspec": {
      "name": "python3",
      "display_name": "Python 3"
    },
    "language_info": {
      "name": "python"
    }
  },
  "cells": [
    {
      "cell_type": "code",
      "execution_count": 3,
      "metadata": {
        "colab": {
          "base_uri": "https://localhost:8080/"
        },
        "id": "9N2_s49OPnLw",
        "outputId": "a6d56844-cedb-4aec-ee76-68395405554a"
      },
      "outputs": [
        {
          "output_type": "stream",
          "name": "stdout",
          "text": [
            "Solution found:\n",
            "Step 0: (3, 3, 1)\n",
            "Step 1: (2, 2, 0)\n",
            "Step 2: (3, 2, 1)\n",
            "Step 3: (3, 0, 0)\n",
            "Step 4: (3, 1, 1)\n",
            "Step 5: (1, 1, 0)\n",
            "Step 6: (2, 2, 1)\n",
            "Step 7: (0, 2, 0)\n",
            "Step 8: (0, 3, 1)\n",
            "Step 9: (0, 1, 0)\n",
            "Step 10: (1, 1, 1)\n",
            "Step 11: (0, 0, 0)\n"
          ]
        }
      ],
      "source": [
        "def is_valid(state):\n",
        "    m_left, c_left, boat = state\n",
        "    m_right, c_right = 3 - m_left, 3 - c_left\n",
        "\n",
        "    # Check if state is valid\n",
        "    if (m_left > 0 and m_left < c_left) or (m_right > 0 and m_right < c_right):\n",
        "        return False\n",
        "    return True\n",
        "\n",
        "def get_next_states(state):\n",
        "    m_left, c_left, boat = state\n",
        "    moves = [(1, 0), (0, 1), (1, 1), (2, 0), (0, 2)]  # Possible moves\n",
        "    next_states = []\n",
        "\n",
        "    for m_move, c_move in moves:\n",
        "        if boat == 1:  # Boat is on the left\n",
        "            new_state = (m_left - m_move, c_left - c_move, 0)\n",
        "        else:          # Boat is on the right\n",
        "            new_state = (m_left + m_move, c_left + c_move, 1)\n",
        "\n",
        "        # Check if the new state is valid and within bounds\n",
        "        if 0 <= new_state[0] <= 3 and 0 <= new_state[1] <= 3 and is_valid(new_state):\n",
        "            next_states.append(new_state)\n",
        "\n",
        "    return next_states\n",
        "\n",
        "def solve_missionaries_cannibals():\n",
        "    start = (3, 3, 1)  # Initial state\n",
        "    goal = (0, 0, 0)   # Goal state\n",
        "    visited = set()\n",
        "    queue = [(start, [])]\n",
        "\n",
        "    while queue:\n",
        "        current, path = queue.pop(0)\n",
        "\n",
        "        if current == goal:\n",
        "            return path + [current]\n",
        "\n",
        "        if current in visited:\n",
        "            continue\n",
        "\n",
        "        visited.add(current)\n",
        "\n",
        "        for next_state in get_next_states(current):\n",
        "            queue.append((next_state, path + [current]))\n",
        "\n",
        "    return None\n",
        "\n",
        "# Solve the problem\n",
        "solution = solve_missionaries_cannibals()\n",
        "if solution:\n",
        "    print(\"Solution found:\")\n",
        "    for step, state in enumerate(solution):\n",
        "        print(f\"Step {step}: {state}\")\n",
        "else:\n",
        "    print(\"No solution found.\")\n"
      ]
    }
  ]
}