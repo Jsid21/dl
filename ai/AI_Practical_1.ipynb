{
  "nbformat": 4,
  "nbformat_minor": 0,
  "metadata": {
    "colab": {
      "provenance": []
    },
    "kernelspec": {
      "name": "python3",
      "display_name": "Python 3"
    },
    "language_info": {
      "name": "python"
    }
  },
  "cells": [
    {
      "cell_type": "code",
      "execution_count": 1,
      "metadata": {
        "id": "4Kn9GgOC_zXj"
      },
      "outputs": [],
      "source": [
        "import numpy as np\n",
        "import pandas as pd"
      ]
    },
    {
      "cell_type": "code",
      "source": [
        "def print_puzzle(state):\n",
        "  print(np.array(state).reshape(3,3))\n",
        "  print()"
      ],
      "metadata": {
        "id": "9w548UvwAB1d"
      },
      "execution_count": 2,
      "outputs": []
    },
    {
      "cell_type": "markdown",
      "source": [
        "# **BFS**\n",
        "\n",
        "---"
      ],
      "metadata": {
        "id": "VC2fRaJ-6Ucd"
      }
    },
    {
      "cell_type": "code",
      "source": [
        "src = [1, 2, 3, 4, 5, 6, 0, 7, 8]\n",
        "target = [1, 2, 3, 4, 5, 6, 7, 8, 0]\n",
        "\n",
        "print(\"Initial state: \")\n",
        "print_puzzle(src)       #initial state\n",
        "print()\n",
        "\n",
        "print(\"Goal state: \")\n",
        "print_puzzle(target)    #goal state\n",
        "print()\n",
        "\n",
        "print(\"BFS solution:\")\n",
        "bfs(src, target)"
      ],
      "metadata": {
        "colab": {
          "base_uri": "https://localhost:8080/"
        },
        "id": "_UX1SxQSoh7Y",
        "outputId": "e3ab6956-0919-4395-86e6-9a0ffc4ef66e"
      },
      "execution_count": 9,
      "outputs": [
        {
          "output_type": "stream",
          "name": "stdout",
          "text": [
            "Initial state: \n",
            "[[1 2 3]\n",
            " [4 5 6]\n",
            " [0 7 8]]\n",
            "\n",
            "\n",
            "Goal state: \n",
            "[[1 2 3]\n",
            " [4 5 6]\n",
            " [7 8 0]]\n",
            "\n",
            "\n",
            "BFS solution:\n",
            "[[1 2 3]\n",
            " [4 5 6]\n",
            " [0 7 8]]\n",
            "\n",
            "[[1 2 3]\n",
            " [0 5 6]\n",
            " [4 7 8]]\n",
            "\n",
            "[[1 2 3]\n",
            " [4 5 6]\n",
            " [7 0 8]]\n",
            "\n",
            "[[0 2 3]\n",
            " [1 5 6]\n",
            " [4 7 8]]\n",
            "\n",
            "[[1 2 3]\n",
            " [5 0 6]\n",
            " [4 7 8]]\n",
            "\n",
            "[[1 2 3]\n",
            " [4 0 6]\n",
            " [7 5 8]]\n",
            "\n",
            "[[1 2 3]\n",
            " [4 5 6]\n",
            " [7 8 0]]\n",
            "\n",
            "Goal Found\n"
          ]
        }
      ]
    },
    {
      "cell_type": "code",
      "source": [
        "def bfs(src,goal):\n",
        "  queue = [] #stores the nodes to be visited\n",
        "  queue.append(src) #src is the first node to be visited\n",
        "  visited = [] #nodes which are explored\n",
        "  while len(queue) > 0:\n",
        "    node = queue.pop(0)\n",
        "    visited.append(node)\n",
        "    print_puzzle(node)\n",
        "    if node == goal:\n",
        "      print(\"Goal Found\")\n",
        "      return\n",
        "\n",
        "    poss_moves_to_do = possible_moves(node, visited)\n",
        "\n",
        "    for move in poss_moves_to_do:\n",
        "      if move not in visited and move not in queue:\n",
        "        queue.append(move)\n",
        "\n"
      ],
      "metadata": {
        "id": "5o-g3rM-ACdz"
      },
      "execution_count": 8,
      "outputs": []
    },
    {
      "cell_type": "code",
      "source": [
        "def possible_moves(node, visited):\n",
        "  direction = []\n",
        "  loc = node.index(0)\n",
        "\n",
        "  if loc not in [0,1,2]:\n",
        "    direction.append('u')\n",
        "\n",
        "  if loc not in [6,7,8]:\n",
        "    direction.append('d')\n",
        "\n",
        "  if loc not in [0,3,6]:\n",
        "    direction.append('l')\n",
        "\n",
        "  if loc not in [2,5,8]:\n",
        "    direction.append('r')\n",
        "\n",
        "  possible_moves_it_can = []\n",
        "  for i in direction:\n",
        "    possible_moves_it_can.append(gen(node,loc,i))\n",
        "\n",
        "  return [move for move in possible_moves_it_can if move not in visited]\n"
      ],
      "metadata": {
        "id": "1MwJUeU6BppO"
      },
      "execution_count": 5,
      "outputs": []
    },
    {
      "cell_type": "code",
      "source": [
        "def gen(state,loc, direction):\n",
        "  temp = state.copy()\n",
        "  if direction == 'u':\n",
        "    temp[loc-3], temp[loc] = temp[loc], temp[loc-3]\n",
        "  if direction == 'd':\n",
        "    temp[loc+3], temp[loc] = temp[loc], temp[loc+3]\n",
        "  if direction == 'r':\n",
        "    temp[loc+1], temp[loc] = temp[loc], temp[loc+1]\n",
        "  if direction == 'l':\n",
        "    temp[loc-1], temp[loc] = temp[loc], temp[loc-1]\n",
        "\n",
        "  return temp\n"
      ],
      "metadata": {
        "id": "m3NfaeehDPcN"
      },
      "execution_count": 7,
      "outputs": []
    },
    {
      "cell_type": "markdown",
      "source": [
        "# **DFS**\n",
        "\n",
        "---\n",
        "\n"
      ],
      "metadata": {
        "id": "oo9tqy5z6pw0"
      }
    },
    {
      "cell_type": "code",
      "source": [
        "import numpy as np\n",
        "\n",
        "def dfs(src, target):\n",
        "    stack = []          #nodes to be explored\n",
        "    stack.append(src)\n",
        "\n",
        "    exp = []            #explored nodes\n",
        "\n",
        "    while len(stack) > 0:\n",
        "        source = stack.pop()\n",
        "        exp.append(source)\n",
        "\n",
        "        print_puzzle(source)\n",
        "\n",
        "        if source == target:\n",
        "            print()\n",
        "            print(\"Success! Goal state achieved!\")\n",
        "            return\n",
        "\n",
        "        # If direction is possible then add state to move\n",
        "        poss_moves_to_do = possible_moves(source, exp)\n",
        "\n",
        "        for move in poss_moves_to_do:\n",
        "            if move not in exp and move not in stack:\n",
        "                stack.append(move)"
      ],
      "metadata": {
        "id": "HHvs2arh6SxZ"
      },
      "execution_count": null,
      "outputs": []
    },
    {
      "cell_type": "code",
      "source": [
        "def possible_moves(state, visited_states):\n",
        "    b = state.index(0)     #index of empty tile\n",
        "    d = []                 #directions array\n",
        "\n",
        "    if b not in [0, 1, 2]:                  # [0  1  2]\n",
        "        d.append('u')                       # [3  4  5]\n",
        "    if b not in [6, 7, 8]:                  # [6  7  8]\n",
        "        d.append('d')\n",
        "    if b not in [0, 3, 6]:\n",
        "        d.append('l')\n",
        "    if b not in [2, 5, 8]:\n",
        "        d.append('r')\n",
        "\n",
        "    pos_moves_it_can = []\n",
        "\n",
        "    # For all possible directions, the state if that move is played\n",
        "    for i in d:\n",
        "        pos_moves_it_can.append(gen(state, i, b))\n",
        "\n",
        "    return [move_it_can for move_it_can in pos_moves_it_can if move_it_can not in visited_states]"
      ],
      "metadata": {
        "id": "946ONFXf9YKy"
      },
      "execution_count": null,
      "outputs": []
    },
    {
      "cell_type": "code",
      "source": [
        "def gen(state, m, b):\n",
        "    temp = state.copy()\n",
        "\n",
        "    if m == 'd':\n",
        "        temp[b+3], temp[b] = temp[b], temp[b+3]\n",
        "\n",
        "    if m == 'u':\n",
        "        temp[b-3], temp[b] = temp[b], temp[b-3]\n",
        "\n",
        "    if m == 'l':\n",
        "        temp[b-1], temp[b] = temp[b], temp[b-1]\n",
        "\n",
        "    if m == 'r':\n",
        "        temp[b+1], temp[b] = temp[b], temp[b+1]\n",
        "\n",
        "    return temp"
      ],
      "metadata": {
        "id": "fSU-4Zek9YHP"
      },
      "execution_count": null,
      "outputs": []
    },
    {
      "cell_type": "code",
      "source": [
        "src = [1, 2, 3, 4, 5, 6, 0, 7, 8]     #initial state\n",
        "target = [1, 2, 3, 4, 5, 6, 7, 8, 0]  #goal state\n",
        "\n",
        "print(\"Initial state: \")\n",
        "print_puzzle(src)       #initial state\n",
        "print()\n",
        "\n",
        "print(\"Goal state: \")\n",
        "print_puzzle(target)    #goal state\n",
        "print()\n",
        "\n",
        "print(\"DFS solution:\")\n",
        "dfs(src, target)"
      ],
      "metadata": {
        "colab": {
          "base_uri": "https://localhost:8080/"
        },
        "id": "N0rg0TuD9gMn",
        "outputId": "1f02442a-38e0-437e-cf33-4c83e079b739"
      },
      "execution_count": null,
      "outputs": [
        {
          "output_type": "stream",
          "name": "stdout",
          "text": [
            "Initial state: \n",
            "[[1 2 3]\n",
            " [4 5 6]\n",
            " [0 7 8]]\n",
            "\n",
            "\n",
            "Goal state: \n",
            "[[1 2 3]\n",
            " [4 5 6]\n",
            " [7 8 0]]\n",
            "\n",
            "\n",
            "DFS solution:\n",
            "[[1 2 3]\n",
            " [4 5 6]\n",
            " [0 7 8]]\n",
            "\n",
            "[[1 2 3]\n",
            " [4 5 6]\n",
            " [7 0 8]]\n",
            "\n",
            "[[1 2 3]\n",
            " [4 5 6]\n",
            " [7 8 0]]\n",
            "\n",
            "\n",
            "Success! Goal state achieved!\n"
          ]
        }
      ]
    }
  ]
}