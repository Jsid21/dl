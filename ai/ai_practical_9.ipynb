{
  "nbformat": 4,
  "nbformat_minor": 0,
  "metadata": {
    "colab": {
      "provenance": []
    },
    "kernelspec": {
      "name": "python3",
      "display_name": "Python 3"
    },
    "language_info": {
      "name": "python"
    }
  },
  "cells": [
    {
      "cell_type": "code",
      "execution_count": 3,
      "metadata": {
        "colab": {
          "base_uri": "https://localhost:8080/"
        },
        "id": "WdhxZQ-w4Tbw",
        "outputId": "e31f32f3-4293-43d5-f2e4-46482c2c1483"
      },
      "outputs": [
        {
          "output_type": "stream",
          "name": "stdout",
          "text": [
            "Chatbot: Hello! Welcome to ShopSmartBot. How can I assist you today? (Type 'bye' to exit)\n",
            "Chatbot: We have a wide range of categories including Electronics, Clothing, Home Appliances, and more. What are you looking for?\n",
            "Chatbot: We have a wide range of categories including Electronics, Clothing, Home Appliances, and more. What are you looking for?\n",
            "Chatbot: We have a wide range of categories including Electronics, Clothing, Home Appliances, and more. What are you looking for?\n",
            "Chatbot: You can return or exchange items within 30 days of purchase. Please visit our Returns page for more details.\n",
            "You: bye\n",
            "Chatbot: Thank you for visiting ShopSmartBot! Happy shopping, and see you again soon!\n"
          ]
        }
      ],
      "source": [
        "import spacy\n",
        "from difflib import get_close_matches\n",
        "import time\n",
        "\n",
        "# Load spaCy language model\n",
        "nlp = spacy.load(\"en_core_web_sm\")\n",
        "\n",
        "# Define intents and responses\n",
        "intents = {\n",
        "    \"greeting\": [\"hello\", \"hi\", \"hey\"],\n",
        "    \"browse_products\": [\"show me products\", \"browse items\", \"what do you have\", \"list products\"],\n",
        "    \"order_status\": [\"track my order\", \"order status\", \"where is my order\", \"delivery status\"],\n",
        "    \"return_policy\": [\"return policy\", \"can I return\", \"refund\", \"exchange items\"],\n",
        "    \"offers\": [\"current offers\", \"discounts\", \"sales\", \"deals\"],\n",
        "    \"payment_methods\": [\"payment methods\", \"how to pay\", \"accepted payments\", \"payment options\"],\n",
        "    \"farewell\": [\"bye\", \"goodbye\", \"exit\", \"thanks\"],\n",
        "}\n",
        "\n",
        "responses = {\n",
        "    \"greeting\": \"Hello! Welcome to ShopSmartBot. How can I assist you today?\",\n",
        "    \"browse_products\": \"We have a wide range of categories including Electronics, Clothing, Home Appliances, and more. What are you looking for?\",\n",
        "    \"order_status\": \"To track your order, please provide your order ID or log in to your account.\",\n",
        "    \"return_policy\": \"You can return or exchange items within 30 days of purchase. Please visit our Returns page for more details.\",\n",
        "    \"offers\": \"We have great deals on Electronics and up to 50% off on Fashion. Check out the Offers section!\",\n",
        "    \"payment_methods\": \"We accept Credit/Debit Cards, UPI, Net Banking, and Cash on Delivery. Let us know how you'd like to pay.\",\n",
        "    \"farewell\": \"Thank you for visiting ShopSmartBot! Happy shopping, and see you again soon!\",\n",
        "}\n",
        "\n",
        "# Function to identify intent\n",
        "def identify_intent(user_input):\n",
        "    doc = nlp(user_input.lower())\n",
        "    user_tokens = [token.text for token in doc]\n",
        "\n",
        "    # Match user input to intents using similarity\n",
        "    for intent, phrases in intents.items():\n",
        "        if get_close_matches(\" \".join(user_tokens), phrases, cutoff=0.5):\n",
        "            return intent\n",
        "    return None\n",
        "\n",
        "# AI Chatbot application\n",
        "def ai_ecommerce_chatbot():\n",
        "    print(\"Chatbot: Hello! Welcome to ShopSmartBot. How can I assist you today? (Type 'bye' to exit)\")\n",
        "\n",
        "    while True:\n",
        "        user_input = input(\"You: \")\n",
        "        if \"bye\" in user_input.lower():\n",
        "            print(\"Chatbot: Thank you for visiting ShopSmartBot! Happy shopping, and see you again soon!\")\n",
        "            break\n",
        "\n",
        "        intent = identify_intent(user_input)\n",
        "        if intent:\n",
        "            response = responses[intent]\n",
        "        else:\n",
        "            response = \"I'm sorry, I didn't understand that. Could you rephrase or provide more details?\"\n",
        "\n",
        "        time.sleep(1)  # Simulate chatbot thinking time\n",
        "        print(f\"Chatbot: {response}\")\n",
        "\n",
        "# Run the chatbot\n",
        "if __name__ == \"__main__\":\n",
        "    ai_ecommerce_chatbot()\n"
      ]
    }
  ]
}