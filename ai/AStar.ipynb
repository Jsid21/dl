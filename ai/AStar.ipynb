{
  "nbformat": 4,
  "nbformat_minor": 0,
  "metadata": {
    "colab": {
      "provenance": []
    },
    "kernelspec": {
      "name": "python3",
      "display_name": "Python 3"
    },
    "language_info": {
      "name": "python"
    }
  },
  "cells": [
    {
      "cell_type": "code",
      "source": [
        "from heapq import heappop, heappush"
      ],
      "metadata": {
        "id": "pE8yxNNF2H2v"
      },
      "execution_count": null,
      "outputs": []
    },
    {
      "cell_type": "code",
      "source": [
        "graph = {\n",
        "    'A':[('B',1),('C',4)],\n",
        "    'B':[('A',1),('C',2),('D',5)],\n",
        "    'C':[('A',4),('B',2),('D',1)],\n",
        "    'D':[('B',5),('C',1)]\n",
        "}"
      ],
      "metadata": {
        "id": "pJjOk-gs0Mfh"
      },
      "execution_count": null,
      "outputs": []
    },
    {
      "cell_type": "code",
      "source": [
        "def heuristics(node):\n",
        "  h_values = {'A':7,'B':6,'C':2,'D':0}\n",
        "  return h_values[node]"
      ],
      "metadata": {
        "id": "qb9-f6Kl1LjM"
      },
      "execution_count": null,
      "outputs": []
    },
    {
      "cell_type": "code",
      "source": [
        "\n",
        "def astar(graph, start, goal, heuristic):\n",
        "    # Priority queue to hold nodes with their f(n) = g(n) + h(n)\n",
        "    open_set = []\n",
        "    heappush(open_set, (0, start))\n",
        "\n",
        "    # Cost from start to all nodes\n",
        "    total_cost = {start: 0}\n",
        "\n",
        "    # Track the path\n",
        "    track = {}\n",
        "\n",
        "    while open_set:\n",
        "        # Node with the lowest f(n) is dequeued\n",
        "        current_cost, current_node = heappop(open_set)\n",
        "        current = current_node\n",
        "\n",
        "        # If the goal is reached, reconstruct the path\n",
        "        if current == goal:\n",
        "            path = []\n",
        "            while current in track:\n",
        "                path.append(current)\n",
        "                current = track[current]\n",
        "            path.append(start)\n",
        "            return path[::-1], total_cost[goal]\n",
        "\n",
        "        for neighbor, cost in graph[current]:\n",
        "            # Calculate tentative g(n)\n",
        "            tentative_g = total_cost[current] + cost\n",
        "\n",
        "            if neighbor not in total_cost or tentative_g < total_cost[neighbor]:\n",
        "                # Update g(n) and came_from\n",
        "                total_cost[neighbor] = tentative_g\n",
        "                track[neighbor] = current\n",
        "\n",
        "                # Calculate f(n) and add to priority queue\n",
        "                f_value = tentative_g + heuristic(neighbor)\n",
        "                heappush(open_set, (f_value, neighbor))\n",
        "\n",
        "    return None, float('inf')"
      ],
      "metadata": {
        "id": "Ru9WdPAX1BBC"
      },
      "execution_count": null,
      "outputs": []
    },
    {
      "cell_type": "code",
      "source": [
        "start = 'A'\n",
        "goal = 'D'\n",
        "path, cost = astar(graph, start, goal, heuristics)\n",
        "\n",
        "print(f\"Shortest path: {path}\")\n",
        "print(f\"Total cost: {cost}\")"
      ],
      "metadata": {
        "colab": {
          "base_uri": "https://localhost:8080/"
        },
        "id": "jhpil9pXAhVj",
        "outputId": "8d3b4226-d40f-4051-8015-3ae6e4ce47df"
      },
      "execution_count": null,
      "outputs": [
        {
          "output_type": "stream",
          "name": "stdout",
          "text": [
            "Shortest path: ['A', 'C', 'D']\n",
            "Total cost: 5\n"
          ]
        }
      ]
    }
  ]
}