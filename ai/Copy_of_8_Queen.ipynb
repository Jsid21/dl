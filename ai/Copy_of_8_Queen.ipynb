{
  "nbformat": 4,
  "nbformat_minor": 0,
  "metadata": {
    "colab": {
      "provenance": []
    },
    "kernelspec": {
      "name": "python3",
      "display_name": "Python 3"
    },
    "language_info": {
      "name": "python"
    }
  },
  "cells": [
    {
      "cell_type": "code",
      "source": [
        "import numpy as np\n",
        "N = 8"
      ],
      "metadata": {
        "id": "vF_I9UsxEN-M"
      },
      "execution_count": 4,
      "outputs": []
    },
    {
      "cell_type": "code",
      "source": [
        "def solveNQueens(board,col):\n",
        "  if col == N :\n",
        "   print(np.array(board).reshape((N,N)))\n",
        "   return True\n",
        "\n",
        "  for i in range(N):\n",
        "    if isSafe(board,i,col):\n",
        "     board[i][col] = 1\n",
        "     if solveNQueens(board,col+1):\n",
        "      return True\n",
        "    board[i][col] = 0\n",
        "  return False"
      ],
      "metadata": {
        "id": "WXY53z0WEhMS"
      },
      "execution_count": 5,
      "outputs": []
    },
    {
      "cell_type": "code",
      "source": [
        "def isSafe(board, row, col):\n",
        "  for x in range (col):\n",
        "    if board[row][x] == 1:\n",
        "     return False\n",
        "  for x, y in zip(range(row, -1, -1), range(col, -1, -1)):\n",
        "    if board[x][y] == 1:\n",
        "        return False\n",
        "  for x, y in zip(range(row, N, 1), range(col, -1, -1)):\n",
        "      if board[x][y] == 1:\n",
        "        return False\n",
        "  return True\n",
        "\n",
        "board = [[0 for x in range(N)] for y in range(N)]\n",
        "if not solveNQueens(board, 0):\n",
        "    print(\"No solution found\")"
      ],
      "metadata": {
        "colab": {
          "base_uri": "https://localhost:8080/"
        },
        "id": "mKsQsFKDGFdb",
        "outputId": "fa441a14-e5fc-4705-d9e2-7d154390128c"
      },
      "execution_count": 6,
      "outputs": [
        {
          "output_type": "stream",
          "name": "stdout",
          "text": [
            "[[1 0 0 0 0 0 0 0]\n",
            " [0 0 0 0 0 0 1 0]\n",
            " [0 0 0 0 1 0 0 0]\n",
            " [0 0 0 0 0 0 0 1]\n",
            " [0 1 0 0 0 0 0 0]\n",
            " [0 0 0 1 0 0 0 0]\n",
            " [0 0 0 0 0 1 0 0]\n",
            " [0 0 1 0 0 0 0 0]]\n"
          ]
        }
      ]
    },
    {
      "cell_type": "code",
      "source": [],
      "metadata": {
        "id": "LWAn-MSaKCW1"
      },
      "execution_count": null,
      "outputs": []
    }
  ]
}